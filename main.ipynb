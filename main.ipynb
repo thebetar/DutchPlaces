{
 "cells": [
  {
   "cell_type": "code",
   "execution_count": 23,
   "id": "a0a2e53a",
   "metadata": {},
   "outputs": [],
   "source": [
    "import pandas as pd"
   ]
  },
  {
   "cell_type": "code",
   "execution_count": 24,
   "id": "ac155f72",
   "metadata": {},
   "outputs": [],
   "source": [
    "# Got gemeenten from https://organisaties.overheid.nl/Gemeenten\n",
    "gemeenten_df = pd.read_csv(\n",
    "    \"./Gemeenten.csv\",\n",
    "    sep=\";\",\n",
    "    encoding=\"utf-8\",\n",
    ")"
   ]
  },
  {
   "cell_type": "code",
   "execution_count": 25,
   "id": "01b6b3c9",
   "metadata": {},
   "outputs": [],
   "source": [
    "# Extract geolocation\n",
    "geo_data_col = \"Adressen (type, toelichting, straat, huisnummer, toevoeging, postbus, postcode, plaats, regio, provincieAfkorting, land, centroideLatitude, centroideLongitude, centroideRdx, centroideRdy)\"\n",
    "\n",
    "def extract_geolocation(row):\n",
    "    geo_data = row[geo_data_col].split(\";\")[0]\n",
    "    geo_data = geo_data.split(\",\")\n",
    "\n",
    "    data = {\n",
    "        \"latitude\": None,\n",
    "        \"longitude\": None\n",
    "    }\n",
    "\n",
    "    for item in geo_data:\n",
    "        item = item.strip()\n",
    "\n",
    "        if item.startswith(\"centroideLatitude\"):\n",
    "            data[\"latitude\"] = float(item.split(\":\")[1].strip())\n",
    "        elif item.startswith(\"centroideLongitude\"):\n",
    "            data[\"longitude\"] = float(item.split(\":\")[1].strip())\n",
    "\n",
    "    return pd.Series(data)\n",
    "\n",
    "# Apply the extraction function to the DataFrame\n",
    "gemeenten_df[[\"latitude\", \"longitude\"]] = gemeenten_df.apply(extract_geolocation, axis=1)"
   ]
  },
  {
   "cell_type": "code",
   "execution_count": 26,
   "id": "4f4b9b68",
   "metadata": {},
   "outputs": [],
   "source": [
    "# Generate new rows from based on \"Bevat plaatsen\"\n",
    "related_towns_col = \"Bevat plaatsen\"\n",
    "\n",
    "def extract_related_towns(row):\n",
    "    related_towns = row[related_towns_col].split(\",\")\n",
    "    related_towns = [town.strip() for town in related_towns if town.strip()]\n",
    "\n",
    "    data = []\n",
    "\n",
    "    for town in related_towns:\n",
    "        data.append({\n",
    "            \"Gemeente\": row[\"Afkorting\"],\n",
    "            \"Plaats\": town,\n",
    "            \"latitude\": row[\"latitude\"],\n",
    "            \"longitude\": row[\"longitude\"]\n",
    "        })\n",
    "\n",
    "    return pd.DataFrame(data)\n",
    "\n",
    "# Apply the extraction function to create new rows and concatenate all results\n",
    "related_towns_dfs = gemeenten_df.apply(extract_related_towns, axis=1)\n",
    "related_towns_df = pd.concat(related_towns_dfs.tolist(), ignore_index=True)\n",
    "\n",
    "# Add Plaats and Gemeente to gemeenten_df\n",
    "gemeenten_df[\"Gemeente\"] = gemeenten_df[\"Afkorting\"]\n",
    "gemeenten_df[\"Plaats\"] = gemeenten_df[\"Afkorting\"]\n",
    "\n",
    "# Concatenate the original gemeenten DataFrame with the related towns DataFrame\n",
    "gemeenten_df = pd.concat([gemeenten_df, related_towns_df], ignore_index=True)"
   ]
  },
  {
   "cell_type": "code",
   "execution_count": 27,
   "id": "be11594d",
   "metadata": {},
   "outputs": [],
   "source": [
    "# Select relevant columns and rename them\n",
    "export_cols = [\n",
    "    \"Gemeente\",\n",
    "    \"Plaats\",\n",
    "    \"latitude\",\n",
    "    \"longitude\"\n",
    "]\n",
    "gemeenten_df = gemeenten_df[export_cols].rename(columns={\n",
    "    \"Gemeente\": \"gemeente\",\n",
    "    \"Plaats\": \"plaats\",\n",
    "    \"latitude\": \"lat\",\n",
    "    \"longitude\": \"lng\"\n",
    "})"
   ]
  },
  {
   "cell_type": "code",
   "execution_count": 28,
   "id": "e6de268a",
   "metadata": {},
   "outputs": [],
   "source": [
    "# Save final DataFrame to CSV\n",
    "gemeenten_df.to_csv(\n",
    "    \"./dutch_places.csv\",\n",
    "    index=False,\n",
    "    encoding=\"utf-8-sig\"\n",
    ")"
   ]
  }
 ],
 "metadata": {
  "kernelspec": {
   "display_name": "Python 3",
   "language": "python",
   "name": "python3"
  },
  "language_info": {
   "codemirror_mode": {
    "name": "ipython",
    "version": 3
   },
   "file_extension": ".py",
   "mimetype": "text/x-python",
   "name": "python",
   "nbconvert_exporter": "python",
   "pygments_lexer": "ipython3",
   "version": "3.10.12"
  }
 },
 "nbformat": 4,
 "nbformat_minor": 5
}
